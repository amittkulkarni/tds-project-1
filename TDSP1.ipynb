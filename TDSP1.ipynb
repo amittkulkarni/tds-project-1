{
 "cells": [
  {
   "cell_type": "code",
   "execution_count": 1,
   "id": "17871c8c-d5b7-4881-8fb2-c3f084deec73",
   "metadata": {},
   "outputs": [],
   "source": [
    "import pandas as pd\n",
    "import numpy as np\n",
    "import matplotlib.pyplot as plt"
   ]
  },
  {
   "cell_type": "markdown",
   "id": "7108a27f-97e8-4871-ae8d-c4c53a47dfe9",
   "metadata": {},
   "source": [
    "#### Q1.  Who are the top 5 users in Basel with the highest number of followers? List their login in order, comma-separated"
   ]
  },
  {
   "cell_type": "code",
   "execution_count": 2,
   "id": "4259def7-3934-411b-b441-64d7d24bd92c",
   "metadata": {},
   "outputs": [
    {
     "data": {
      "text/html": [
       "<div>\n",
       "<style scoped>\n",
       "    .dataframe tbody tr th:only-of-type {\n",
       "        vertical-align: middle;\n",
       "    }\n",
       "\n",
       "    .dataframe tbody tr th {\n",
       "        vertical-align: top;\n",
       "    }\n",
       "\n",
       "    .dataframe thead th {\n",
       "        text-align: right;\n",
       "    }\n",
       "</style>\n",
       "<table border=\"1\" class=\"dataframe\">\n",
       "  <thead>\n",
       "    <tr style=\"text-align: right;\">\n",
       "      <th></th>\n",
       "      <th>login</th>\n",
       "      <th>name</th>\n",
       "      <th>company</th>\n",
       "      <th>location</th>\n",
       "      <th>email</th>\n",
       "      <th>hireable</th>\n",
       "      <th>bio</th>\n",
       "      <th>public_repos</th>\n",
       "      <th>followers</th>\n",
       "      <th>following</th>\n",
       "      <th>created_at</th>\n",
       "    </tr>\n",
       "  </thead>\n",
       "  <tbody>\n",
       "    <tr>\n",
       "      <th>0</th>\n",
       "      <td>tarsius</td>\n",
       "      <td>Jonas Bernoulli</td>\n",
       "      <td>NaN</td>\n",
       "      <td>Basel, Switzerland</td>\n",
       "      <td>jonas@bernoul.li</td>\n",
       "      <td>NaN</td>\n",
       "      <td>NaN</td>\n",
       "      <td>39</td>\n",
       "      <td>1345</td>\n",
       "      <td>45</td>\n",
       "      <td>2008-09-17T19:18:37Z</td>\n",
       "    </tr>\n",
       "    <tr>\n",
       "      <th>1</th>\n",
       "      <td>aalmiray</td>\n",
       "      <td>Andres Almiray</td>\n",
       "      <td>NaN</td>\n",
       "      <td>Basel, Switzerland</td>\n",
       "      <td>aalmiray@gmail.com</td>\n",
       "      <td>NaN</td>\n",
       "      <td>I code for fun and help others in the process....</td>\n",
       "      <td>253</td>\n",
       "      <td>887</td>\n",
       "      <td>65</td>\n",
       "      <td>2008-06-17T00:30:56Z</td>\n",
       "    </tr>\n",
       "    <tr>\n",
       "      <th>2</th>\n",
       "      <td>marcoroth</td>\n",
       "      <td>Marco Roth</td>\n",
       "      <td>NaN</td>\n",
       "      <td>Basel, Switzerland</td>\n",
       "      <td>NaN</td>\n",
       "      <td>True</td>\n",
       "      <td>Rubyist, Full-Stack Devloper and Open Source C...</td>\n",
       "      <td>193</td>\n",
       "      <td>555</td>\n",
       "      <td>1128</td>\n",
       "      <td>2014-01-15T17:12:11Z</td>\n",
       "    </tr>\n",
       "    <tr>\n",
       "      <th>3</th>\n",
       "      <td>klmr</td>\n",
       "      <td>Konrad Rudolph</td>\n",
       "      <td>ROCHE</td>\n",
       "      <td>Basel, CH</td>\n",
       "      <td>konrad.rudolph@gmail.com</td>\n",
       "      <td>NaN</td>\n",
       "      <td>Geneticist 🧬, computer scientist 𝝺 and softwar...</td>\n",
       "      <td>115</td>\n",
       "      <td>472</td>\n",
       "      <td>109</td>\n",
       "      <td>2008-12-07T20:55:40Z</td>\n",
       "    </tr>\n",
       "    <tr>\n",
       "      <th>4</th>\n",
       "      <td>MrNeRF</td>\n",
       "      <td>janusch</td>\n",
       "      <td>NaN</td>\n",
       "      <td>Basel, Switzerland</td>\n",
       "      <td>NaN</td>\n",
       "      <td>True</td>\n",
       "      <td>Professional C++ Software Engineer. Skills: CU...</td>\n",
       "      <td>34</td>\n",
       "      <td>434</td>\n",
       "      <td>37</td>\n",
       "      <td>2017-11-21T18:17:58Z</td>\n",
       "    </tr>\n",
       "  </tbody>\n",
       "</table>\n",
       "</div>"
      ],
      "text/plain": [
       "       login             name company            location  \\\n",
       "0    tarsius  Jonas Bernoulli     NaN  Basel, Switzerland   \n",
       "1   aalmiray   Andres Almiray     NaN  Basel, Switzerland   \n",
       "2  marcoroth       Marco Roth     NaN  Basel, Switzerland   \n",
       "3       klmr   Konrad Rudolph   ROCHE           Basel, CH   \n",
       "4     MrNeRF          janusch     NaN  Basel, Switzerland   \n",
       "\n",
       "                      email hireable  \\\n",
       "0          jonas@bernoul.li      NaN   \n",
       "1        aalmiray@gmail.com      NaN   \n",
       "2                       NaN     True   \n",
       "3  konrad.rudolph@gmail.com      NaN   \n",
       "4                       NaN     True   \n",
       "\n",
       "                                                 bio  public_repos  followers  \\\n",
       "0                                                NaN            39       1345   \n",
       "1  I code for fun and help others in the process....           253        887   \n",
       "2  Rubyist, Full-Stack Devloper and Open Source C...           193        555   \n",
       "3  Geneticist 🧬, computer scientist 𝝺 and softwar...           115        472   \n",
       "4  Professional C++ Software Engineer. Skills: CU...            34        434   \n",
       "\n",
       "   following            created_at  \n",
       "0         45  2008-09-17T19:18:37Z  \n",
       "1         65  2008-06-17T00:30:56Z  \n",
       "2       1128  2014-01-15T17:12:11Z  \n",
       "3        109  2008-12-07T20:55:40Z  \n",
       "4         37  2017-11-21T18:17:58Z  "
      ]
     },
     "execution_count": 2,
     "metadata": {},
     "output_type": "execute_result"
    }
   ],
   "source": [
    "users = pd.read_csv('users.csv')\n",
    "users.head()"
   ]
  },
  {
   "cell_type": "code",
   "execution_count": 5,
   "id": "a14993f9-48d3-4956-9cca-d4349c30f649",
   "metadata": {},
   "outputs": [
    {
     "data": {
      "text/plain": [
       "['tarsius', 'aalmiray', 'marcoroth', 'klmr', 'MrNeRF']"
      ]
     },
     "execution_count": 5,
     "metadata": {},
     "output_type": "execute_result"
    }
   ],
   "source": [
    "top5 = users.sort_values(by='followers', ascending=False).head()\n",
    "answer = top5['login'].tolist()\n",
    "answer"
   ]
  },
  {
   "cell_type": "markdown",
   "id": "6cc86ddb-88c3-453c-bf56-29614358b62e",
   "metadata": {},
   "source": [
    "#### Q2. Who are the 5 earliest registered GitHub users in Basel? List their login in ascending order of created_at, comma-separated."
   ]
  },
  {
   "cell_type": "code",
   "execution_count": 6,
   "id": "afe79990-ccd3-4c8d-b184-45de1f19097c",
   "metadata": {},
   "outputs": [],
   "source": [
    "users['created_at'] = pd.to_datetime(users['created_at'])"
   ]
  },
  {
   "cell_type": "code",
   "execution_count": 9,
   "id": "f9645405-1745-4f06-9ba8-681b5c1e51b0",
   "metadata": {},
   "outputs": [
    {
     "data": {
      "text/plain": [
       "['bennyzen', 'aalmiray', 'pvillega', 'tarsius', 'klmr']"
      ]
     },
     "execution_count": 9,
     "metadata": {},
     "output_type": "execute_result"
    }
   ],
   "source": [
    "top_earliest = users.sort_values(by='created_at').head()\n",
    "answer = top_earliest['login'].tolist()\n",
    "answer"
   ]
  },
  {
   "cell_type": "markdown",
   "id": "1675cbcf-6a8b-4af8-b24a-1372f68efd6b",
   "metadata": {},
   "source": [
    "#### Q3. What are the 3 most popular license among these users? Ignore missing licenses. List the license_name in order, comma-separated."
   ]
  },
  {
   "cell_type": "code",
   "execution_count": 10,
   "id": "a139a9a8-9ded-4175-b023-fe871850f3a4",
   "metadata": {},
   "outputs": [
    {
     "data": {
      "text/html": [
       "<div>\n",
       "<style scoped>\n",
       "    .dataframe tbody tr th:only-of-type {\n",
       "        vertical-align: middle;\n",
       "    }\n",
       "\n",
       "    .dataframe tbody tr th {\n",
       "        vertical-align: top;\n",
       "    }\n",
       "\n",
       "    .dataframe thead th {\n",
       "        text-align: right;\n",
       "    }\n",
       "</style>\n",
       "<table border=\"1\" class=\"dataframe\">\n",
       "  <thead>\n",
       "    <tr style=\"text-align: right;\">\n",
       "      <th></th>\n",
       "      <th>login</th>\n",
       "      <th>full_name</th>\n",
       "      <th>created_at</th>\n",
       "      <th>stargazers_count</th>\n",
       "      <th>watchers_count</th>\n",
       "      <th>language</th>\n",
       "      <th>has_projects</th>\n",
       "      <th>has_wiki</th>\n",
       "      <th>license_name</th>\n",
       "    </tr>\n",
       "  </thead>\n",
       "  <tbody>\n",
       "    <tr>\n",
       "      <th>0</th>\n",
       "      <td>tarsius</td>\n",
       "      <td>tarsius/.github</td>\n",
       "      <td>2019-12-05T17:14:31Z</td>\n",
       "      <td>1</td>\n",
       "      <td>1</td>\n",
       "      <td>Makefile</td>\n",
       "      <td>False</td>\n",
       "      <td>True</td>\n",
       "      <td>NaN</td>\n",
       "    </tr>\n",
       "    <tr>\n",
       "      <th>1</th>\n",
       "      <td>tarsius</td>\n",
       "      <td>tarsius/backline</td>\n",
       "      <td>2018-10-30T15:25:07Z</td>\n",
       "      <td>29</td>\n",
       "      <td>29</td>\n",
       "      <td>Emacs Lisp</td>\n",
       "      <td>False</td>\n",
       "      <td>False</td>\n",
       "      <td>gpl-3.0</td>\n",
       "    </tr>\n",
       "    <tr>\n",
       "      <th>2</th>\n",
       "      <td>tarsius</td>\n",
       "      <td>tarsius/bicycle</td>\n",
       "      <td>2017-08-06T11:23:07Z</td>\n",
       "      <td>59</td>\n",
       "      <td>59</td>\n",
       "      <td>Emacs Lisp</td>\n",
       "      <td>False</td>\n",
       "      <td>False</td>\n",
       "      <td>gpl-3.0</td>\n",
       "    </tr>\n",
       "    <tr>\n",
       "      <th>3</th>\n",
       "      <td>tarsius</td>\n",
       "      <td>tarsius/dim-autoload</td>\n",
       "      <td>2013-09-19T18:30:49Z</td>\n",
       "      <td>5</td>\n",
       "      <td>5</td>\n",
       "      <td>Emacs Lisp</td>\n",
       "      <td>False</td>\n",
       "      <td>False</td>\n",
       "      <td>gpl-3.0</td>\n",
       "    </tr>\n",
       "    <tr>\n",
       "      <th>4</th>\n",
       "      <td>tarsius</td>\n",
       "      <td>tarsius/elisp-maintainers</td>\n",
       "      <td>2017-09-21T19:28:28Z</td>\n",
       "      <td>177</td>\n",
       "      <td>177</td>\n",
       "      <td>NaN</td>\n",
       "      <td>False</td>\n",
       "      <td>False</td>\n",
       "      <td>NaN</td>\n",
       "    </tr>\n",
       "  </tbody>\n",
       "</table>\n",
       "</div>"
      ],
      "text/plain": [
       "     login                  full_name            created_at  stargazers_count  \\\n",
       "0  tarsius            tarsius/.github  2019-12-05T17:14:31Z                 1   \n",
       "1  tarsius           tarsius/backline  2018-10-30T15:25:07Z                29   \n",
       "2  tarsius            tarsius/bicycle  2017-08-06T11:23:07Z                59   \n",
       "3  tarsius       tarsius/dim-autoload  2013-09-19T18:30:49Z                 5   \n",
       "4  tarsius  tarsius/elisp-maintainers  2017-09-21T19:28:28Z               177   \n",
       "\n",
       "   watchers_count    language  has_projects  has_wiki license_name  \n",
       "0               1    Makefile         False      True          NaN  \n",
       "1              29  Emacs Lisp         False     False      gpl-3.0  \n",
       "2              59  Emacs Lisp         False     False      gpl-3.0  \n",
       "3               5  Emacs Lisp         False     False      gpl-3.0  \n",
       "4             177         NaN         False     False          NaN  "
      ]
     },
     "execution_count": 10,
     "metadata": {},
     "output_type": "execute_result"
    }
   ],
   "source": [
    "repos = pd.read_csv('repositories.csv')\n",
    "repos.head()"
   ]
  },
  {
   "cell_type": "code",
   "execution_count": 11,
   "id": "f5b0a4ce-ae41-4066-a59a-58e81f27ad47",
   "metadata": {},
   "outputs": [
    {
     "data": {
      "text/plain": [
       "license_name\n",
       "mit                   1337\n",
       "apache-2.0             588\n",
       "other                  471\n",
       "gpl-3.0                281\n",
       "bsd-3-clause           197\n",
       "gpl-2.0                 65\n",
       "agpl-3.0                56\n",
       "cc0-1.0                 44\n",
       "bsd-2-clause            42\n",
       "lgpl-3.0                31\n",
       "cc-by-4.0               20\n",
       "unlicense               19\n",
       "mpl-2.0                 18\n",
       "lgpl-2.1                13\n",
       "isc                     13\n",
       "bsl-1.0                  6\n",
       "cc-by-sa-4.0             5\n",
       "epl-2.0                  3\n",
       "bsd-3-clause-clear       2\n",
       "epl-1.0                  2\n",
       "wtfpl                    2\n",
       "afl-3.0                  1\n",
       "ms-pl                    1\n",
       "zlib                     1\n",
       "mit-0                    1\n",
       "ofl-1.1                  1\n",
       "Name: count, dtype: int64"
      ]
     },
     "execution_count": 11,
     "metadata": {},
     "output_type": "execute_result"
    }
   ],
   "source": [
    "repos['license_name'].value_counts()"
   ]
  },
  {
   "cell_type": "markdown",
   "id": "662f1894-2c60-429c-b06d-cbe36afe6f08",
   "metadata": {},
   "source": [
    "#### Q4. Which company do the majority of these developers work at?"
   ]
  },
  {
   "cell_type": "code",
   "execution_count": 12,
   "id": "93a985b2-4e56-4871-9757-23e6ae5ed0de",
   "metadata": {},
   "outputs": [
    {
     "data": {
      "text/plain": [
       "company\n",
       "ROCHE                              5\n",
       "UNIVERSITY OF BASEL                2\n",
       "BALOISE                            2\n",
       "FHNW & PEERVIEW GMBH               1\n",
       "ARACONWISS GMBH                    1\n",
       "                                  ..\n",
       "FMI                                1\n",
       "ADFINIS                            1\n",
       "VERNEMQ                            1\n",
       "QUADBIO LAB, D-BSSE, ETH ZURICH    1\n",
       "WAYFAIR, PREV. @UVINUM             1\n",
       "Name: count, Length: 62, dtype: int64"
      ]
     },
     "execution_count": 12,
     "metadata": {},
     "output_type": "execute_result"
    }
   ],
   "source": [
    "users['company'].value_counts()"
   ]
  },
  {
   "cell_type": "markdown",
   "id": "3e73104c-f44c-4e59-aecc-cb10a34578a1",
   "metadata": {},
   "source": [
    "#### Q5. Which programming language is most popular among these users?"
   ]
  },
  {
   "cell_type": "code",
   "execution_count": 13,
   "id": "1abcf548-42aa-43fc-837e-86c6db860617",
   "metadata": {},
   "outputs": [
    {
     "data": {
      "text/plain": [
       "language\n",
       "Python          671\n",
       "JavaScript      534\n",
       "Java            328\n",
       "PHP             233\n",
       "C++             228\n",
       "               ... \n",
       "Sass              1\n",
       "Visual Basic      1\n",
       "Perl6             1\n",
       "AppleScript       1\n",
       "Agda              1\n",
       "Name: count, Length: 100, dtype: int64"
      ]
     },
     "execution_count": 13,
     "metadata": {},
     "output_type": "execute_result"
    }
   ],
   "source": [
    "repos['language'].value_counts()"
   ]
  },
  {
   "cell_type": "markdown",
   "id": "bf7abc13-3226-4c35-b42e-400f06cac01d",
   "metadata": {},
   "source": [
    "#### Q6. Which programming language is the second most popular among users who joined after 2020?"
   ]
  },
  {
   "cell_type": "code",
   "execution_count": 15,
   "id": "d01727ac-d1de-4407-a65b-db7a88223d81",
   "metadata": {},
   "outputs": [
    {
     "data": {
      "text/html": [
       "<div>\n",
       "<style scoped>\n",
       "    .dataframe tbody tr th:only-of-type {\n",
       "        vertical-align: middle;\n",
       "    }\n",
       "\n",
       "    .dataframe tbody tr th {\n",
       "        vertical-align: top;\n",
       "    }\n",
       "\n",
       "    .dataframe thead th {\n",
       "        text-align: right;\n",
       "    }\n",
       "</style>\n",
       "<table border=\"1\" class=\"dataframe\">\n",
       "  <thead>\n",
       "    <tr style=\"text-align: right;\">\n",
       "      <th></th>\n",
       "      <th>login</th>\n",
       "      <th>name</th>\n",
       "      <th>company</th>\n",
       "      <th>location</th>\n",
       "      <th>email</th>\n",
       "      <th>hireable</th>\n",
       "      <th>bio</th>\n",
       "      <th>public_repos</th>\n",
       "      <th>followers</th>\n",
       "      <th>following</th>\n",
       "      <th>created_at</th>\n",
       "    </tr>\n",
       "  </thead>\n",
       "  <tbody>\n",
       "    <tr>\n",
       "      <th>85</th>\n",
       "      <td>markh0rr</td>\n",
       "      <td>NaN</td>\n",
       "      <td>STACKSYNC FULL STACK DEVELOPER | EPFL CS STUDENT</td>\n",
       "      <td>Basel | Lausanne Switzerland</td>\n",
       "      <td>NaN</td>\n",
       "      <td>NaN</td>\n",
       "      <td>MAKE SOMETHING PEOPLE WANT.</td>\n",
       "      <td>4</td>\n",
       "      <td>41</td>\n",
       "      <td>77</td>\n",
       "      <td>2021-02-11 11:10:18+00:00</td>\n",
       "    </tr>\n",
       "    <tr>\n",
       "      <th>94</th>\n",
       "      <td>leonden</td>\n",
       "      <td>Leon</td>\n",
       "      <td>HOME</td>\n",
       "      <td>Basel</td>\n",
       "      <td>info@leonhochwimmer.com</td>\n",
       "      <td>NaN</td>\n",
       "      <td>🪐🫧🦋</td>\n",
       "      <td>35</td>\n",
       "      <td>36</td>\n",
       "      <td>95</td>\n",
       "      <td>2022-01-17 09:06:41+00:00</td>\n",
       "    </tr>\n",
       "  </tbody>\n",
       "</table>\n",
       "</div>"
      ],
      "text/plain": [
       "       login  name                                           company  \\\n",
       "85  markh0rr   NaN  STACKSYNC FULL STACK DEVELOPER | EPFL CS STUDENT   \n",
       "94   leonden  Leon                                              HOME   \n",
       "\n",
       "                        location                    email hireable  \\\n",
       "85  Basel | Lausanne Switzerland                      NaN      NaN   \n",
       "94                         Basel  info@leonhochwimmer.com      NaN   \n",
       "\n",
       "                            bio  public_repos  followers  following  \\\n",
       "85  MAKE SOMETHING PEOPLE WANT.             4         41         77   \n",
       "94                          🪐🫧🦋            35         36         95   \n",
       "\n",
       "                  created_at  \n",
       "85 2021-02-11 11:10:18+00:00  \n",
       "94 2022-01-17 09:06:41+00:00  "
      ]
     },
     "execution_count": 15,
     "metadata": {},
     "output_type": "execute_result"
    }
   ],
   "source": [
    "users_after_2020 = users[users['created_at'] > '2020-01-01']\n",
    "users_after_2020"
   ]
  },
  {
   "cell_type": "code",
   "execution_count": 17,
   "id": "aee537b6-38c7-4aa5-baae-c398fe385053",
   "metadata": {},
   "outputs": [
    {
     "data": {
      "text/plain": [
       "language\n",
       "HTML          8\n",
       "TypeScript    4\n",
       "Java          4\n",
       "CSS           4\n",
       "Python        3\n",
       "JavaScript    3\n",
       "C++           2\n",
       "Rust          2\n",
       "Ruby          1\n",
       "PHP           1\n",
       "Name: count, dtype: int64"
      ]
     },
     "execution_count": 17,
     "metadata": {},
     "output_type": "execute_result"
    }
   ],
   "source": [
    "repos_2020 = repos[repos['login'].isin(['markh0rr', 'leonden'])]\n",
    "repos_2020['language'].value_counts()"
   ]
  },
  {
   "cell_type": "markdown",
   "id": "d0b07a2f-bcae-496b-ab7e-188a2f0aa7be",
   "metadata": {},
   "source": [
    "#### Q7. Which language has the highest average number of stars per repository? "
   ]
  },
  {
   "cell_type": "code",
   "execution_count": 18,
   "id": "8c8a119a-e562-4855-8330-23b6dccdfea9",
   "metadata": {},
   "outputs": [
    {
     "name": "stdout",
     "output_type": "stream",
     "text": [
      "Emacs Lisp 57.76470588235294\n"
     ]
    }
   ],
   "source": [
    "avg_stars = repos.groupby('language')['stargazers_count'].mean()\n",
    "top_lang = avg_stars.idxmax()\n",
    "top_stars = avg_stars.max()\n",
    "print(top_lang, top_stars)"
   ]
  },
  {
   "cell_type": "markdown",
   "id": "e430846a-1518-409f-8717-cb2f84570460",
   "metadata": {},
   "source": [
    "#### Q8. Let's define leader_strength as followers / (1 + following). Who are the top 5 in terms of leader_strength? List their login in order, comma-separated."
   ]
  },
  {
   "cell_type": "code",
   "execution_count": 23,
   "id": "aa51b046-149f-4ef5-89ff-62586043992c",
   "metadata": {},
   "outputs": [
    {
     "data": {
      "text/plain": [
       "['dpryan79', 'wasserth', 'ravage84', 'elanmart', 'quadbiolab']"
      ]
     },
     "execution_count": 23,
     "metadata": {},
     "output_type": "execute_result"
    }
   ],
   "source": [
    "users['leader_strength'] = users['followers'] / (1 + users['following'])\n",
    "top5_lead = users.sort_values(by='leader_strength', ascending=False).head()\n",
    "top5_lead['login'].tolist()"
   ]
  },
  {
   "cell_type": "markdown",
   "id": "8dd87be3-3a61-4fe1-ab5c-1ef836c545d3",
   "metadata": {},
   "source": [
    "#### Q9. What is the correlation between the number of followers and the number of public repositories among users in Basel?"
   ]
  },
  {
   "cell_type": "code",
   "execution_count": 24,
   "id": "91e8b274-bde5-41ac-91d2-d965334f2d35",
   "metadata": {},
   "outputs": [
    {
     "data": {
      "text/plain": [
       "0.22289493131082125"
      ]
     },
     "execution_count": 24,
     "metadata": {},
     "output_type": "execute_result"
    }
   ],
   "source": [
    "correlation = users['followers'].corr(users['public_repos'])\n",
    "correlation"
   ]
  },
  {
   "cell_type": "markdown",
   "id": "23dac608-8b88-48d8-aeae-1e11b2cb2b87",
   "metadata": {},
   "source": [
    "#### Q10. Does creating more repos help users get more followers? Using regression, estimate how many additional followers a user gets per additional public repository."
   ]
  },
  {
   "cell_type": "code",
   "execution_count": 25,
   "id": "9eede565-f813-4807-989b-051201f7f411",
   "metadata": {},
   "outputs": [
    {
     "data": {
      "text/plain": [
       "0.4782094809667004"
      ]
     },
     "execution_count": 25,
     "metadata": {},
     "output_type": "execute_result"
    }
   ],
   "source": [
    "from sklearn.linear_model import LinearRegression\n",
    "\n",
    "lr = LinearRegression()\n",
    "X = users['public_repos'].values.reshape(-1,1)\n",
    "y = users['followers']\n",
    "\n",
    "lr.fit(X, y)\n",
    "slope = lr.coef_[0]\n",
    "slope"
   ]
  },
  {
   "cell_type": "markdown",
   "id": "b1739602-5cef-48d6-a3ef-3ecc1d12f405",
   "metadata": {},
   "source": [
    "#### Q11. Do people typically enable projects and wikis together? What is the correlation between a repo having projects enabled and having wiki enabled?"
   ]
  },
  {
   "cell_type": "code",
   "execution_count": 27,
   "id": "e680160d-cfa3-42ef-be27-55a772b77171",
   "metadata": {},
   "outputs": [
    {
     "data": {
      "text/plain": [
       "0.2929570623709389"
      ]
     },
     "execution_count": 27,
     "metadata": {},
     "output_type": "execute_result"
    }
   ],
   "source": [
    "correlation = repos['has_projects'].corr(repos['has_wiki'])\n",
    "correlation"
   ]
  },
  {
   "cell_type": "markdown",
   "id": "7d1c5de4-b714-46e2-af6a-ad41e8a42f8f",
   "metadata": {},
   "source": [
    "#### Q12. Do hireable users follow more people than those who are not hireable?"
   ]
  },
  {
   "cell_type": "code",
   "execution_count": 39,
   "id": "9c95a10b-8de9-4bb5-81b4-03d2459cd284",
   "metadata": {},
   "outputs": [],
   "source": [
    "users['hireable'] = users['hireable'].fillna(False).astype(bool)"
   ]
  },
  {
   "cell_type": "code",
   "execution_count": 42,
   "id": "cd51bed6-bba7-4407-94a9-ccc5e3968b4d",
   "metadata": {},
   "outputs": [
    {
     "data": {
      "text/plain": [
       "80.17333333333335"
      ]
     },
     "execution_count": 42,
     "metadata": {},
     "output_type": "execute_result"
    }
   ],
   "source": [
    "hireable_avg_following = users[users['hireable'] == True]['following'].mean()\n",
    "non_hireable_avg_following = users[users['hireable'] == False]['following'].mean()\n",
    "difference = hireable_avg_following - non_hireable_avg_following\n",
    "difference"
   ]
  },
  {
   "cell_type": "markdown",
   "id": "1f30dbcf-90f2-4531-b37c-0386828e1f9f",
   "metadata": {},
   "source": [
    "#### Q13. Some developers write long bios. Does that help them get more followers? What's the correlation of the length of their bio (in Unicode characters) with followers? (Ignore people without bios)"
   ]
  },
  {
   "cell_type": "code",
   "execution_count": 45,
   "id": "a324c8b4-9faf-4f4d-9c3d-0813e6bdbfb8",
   "metadata": {},
   "outputs": [
    {
     "data": {
      "text/plain": [
       "0.930830156520659"
      ]
     },
     "execution_count": 45,
     "metadata": {},
     "output_type": "execute_result"
    }
   ],
   "source": [
    "users_with_bio = users[users['bio'].notna()].copy()\n",
    "users_with_bio.loc[:, 'bio_len'] = users_with_bio['bio'].str.len()\n",
    "\n",
    "X = users_with_bio['bio_len'].values.reshape(-1,1)\n",
    "y = users_with_bio['followers']\n",
    "\n",
    "lr2 = LinearRegression()\n",
    "lr2.fit(X, y)\n",
    "lr2.coef_[0]"
   ]
  },
  {
   "cell_type": "markdown",
   "id": "96cb22e4-4046-40cf-9be5-06f096b0f0c3",
   "metadata": {},
   "source": [
    "#### Q14. Who created the most repositories on weekends (UTC)? List the top 5 users' login in order, comma-separated"
   ]
  },
  {
   "cell_type": "code",
   "execution_count": 47,
   "id": "ab49dafe-2981-4fe1-b603-0bee0e61e04f",
   "metadata": {},
   "outputs": [
    {
     "data": {
      "text/plain": [
       "login\n",
       "marcossegovia    48\n",
       "tbreuss          44\n",
       "ioolkos          40\n",
       "maysam           39\n",
       "pvillega         38\n",
       "Name: count, dtype: int64"
      ]
     },
     "execution_count": 47,
     "metadata": {},
     "output_type": "execute_result"
    }
   ],
   "source": [
    "repos['created_at'] = pd.to_datetime(repos['created_at'])\n",
    "repos['day_of_week'] = repos['created_at'].dt.dayofweek\n",
    "weekend_repos = repos[repos['day_of_week'].isin([5, 6])]\n",
    "weekend_repos['login'].value_counts().head()"
   ]
  },
  {
   "cell_type": "markdown",
   "id": "6d9da60a-2ff0-4421-808e-ab9a74bf02fb",
   "metadata": {},
   "source": [
    "#### Q15. Do people who are hireable share their email addresses more often?"
   ]
  },
  {
   "cell_type": "code",
   "execution_count": 51,
   "id": "b8381831-d1ed-4855-afc2-97ad1c06a1af",
   "metadata": {},
   "outputs": [
    {
     "data": {
      "text/plain": [
       "0.13333333333333336"
      ]
     },
     "execution_count": 51,
     "metadata": {},
     "output_type": "execute_result"
    }
   ],
   "source": [
    "fraction_hierable = users[users['hireable'] == True]['email'].notna().mean()\n",
    "fraction_non_hierable = users[users['hireable'] == False]['email'].notna().mean()\n",
    "diff = fraction_hierable - fraction_non_hierable\n",
    "diff"
   ]
  },
  {
   "cell_type": "markdown",
   "id": "806a227e-1285-4c5f-bb05-867a3fd5101a",
   "metadata": {},
   "source": [
    "#### Q16. Let's assume that the last word in a user's name is their surname (ignore missing names, trim and split by whitespace.) What's the most common surname? (If there's a tie, list them all, comma-separated, alphabetically)"
   ]
  },
  {
   "cell_type": "code",
   "execution_count": 54,
   "id": "01a24dfb-05cc-4528-b118-558b2307639c",
   "metadata": {},
   "outputs": [
    {
     "data": {
      "text/plain": [
       "'Brand, Christensen'"
      ]
     },
     "execution_count": 54,
     "metadata": {},
     "output_type": "execute_result"
    }
   ],
   "source": [
    "new_users = users[users['name'].notna()].copy()\n",
    "new_users['surname'] = new_users['name'].str.split().str[-1].str.strip()\n",
    "surname_counts = new_users['surname'].value_counts()\n",
    "max_count = surname_counts.max()\n",
    "common_surnames = surname_counts[surname_counts == max_count].index.tolist()\n",
    "common_surnames.sort()\n",
    "common_surnames_output = ', '.join(common_surnames)\n",
    "common_surnames_output"
   ]
  }
 ],
 "metadata": {
  "kernelspec": {
   "display_name": "Python (eda)",
   "language": "python",
   "name": "eda"
  },
  "language_info": {
   "codemirror_mode": {
    "name": "ipython",
    "version": 3
   },
   "file_extension": ".py",
   "mimetype": "text/x-python",
   "name": "python",
   "nbconvert_exporter": "python",
   "pygments_lexer": "ipython3",
   "version": "3.12.2"
  }
 },
 "nbformat": 4,
 "nbformat_minor": 5
}
