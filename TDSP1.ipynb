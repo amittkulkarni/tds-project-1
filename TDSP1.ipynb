{
 "cells": [
  {
   "cell_type": "code",
   "execution_count": 1,
   "id": "17871c8c-d5b7-4881-8fb2-c3f084deec73",
   "metadata": {},
   "outputs": [],
   "source": [
    "import pandas as pd\n",
    "import numpy as np\n",
    "import matplotlib.pyplot as plt"
   ]
  },
  {
   "cell_type": "markdown",
   "id": "7108a27f-97e8-4871-ae8d-c4c53a47dfe9",
   "metadata": {},
   "source": [
    "#### Q1.  Who are the top 5 users in Basel with the highest number of followers? List their login in order, comma-separated"
   ]
  },
  {
   "cell_type": "code",
   "execution_count": 2,
   "id": "4259def7-3934-411b-b441-64d7d24bd92c",
   "metadata": {},
   "outputs": [
    {
     "data": {
      "text/html": [
       "<div>\n",
       "<style scoped>\n",
       "    .dataframe tbody tr th:only-of-type {\n",
       "        vertical-align: middle;\n",
       "    }\n",
       "\n",
       "    .dataframe tbody tr th {\n",
       "        vertical-align: top;\n",
       "    }\n",
       "\n",
       "    .dataframe thead th {\n",
       "        text-align: right;\n",
       "    }\n",
       "</style>\n",
       "<table border=\"1\" class=\"dataframe\">\n",
       "  <thead>\n",
       "    <tr style=\"text-align: right;\">\n",
       "      <th></th>\n",
       "      <th>login</th>\n",
       "      <th>name</th>\n",
       "      <th>company</th>\n",
       "      <th>location</th>\n",
       "      <th>email</th>\n",
       "      <th>hireable</th>\n",
       "      <th>bio</th>\n",
       "      <th>public_repos</th>\n",
       "      <th>followers</th>\n",
       "      <th>following</th>\n",
       "      <th>created_at</th>\n",
       "    </tr>\n",
       "  </thead>\n",
       "  <tbody>\n",
       "    <tr>\n",
       "      <th>0</th>\n",
       "      <td>tarsius</td>\n",
       "      <td>Jonas Bernoulli</td>\n",
       "      <td>NaN</td>\n",
       "      <td>Basel, Switzerland</td>\n",
       "      <td>jonas@bernoul.li</td>\n",
       "      <td>NaN</td>\n",
       "      <td>NaN</td>\n",
       "      <td>39</td>\n",
       "      <td>1344</td>\n",
       "      <td>45</td>\n",
       "      <td>2008-09-17T19:18:37Z</td>\n",
       "    </tr>\n",
       "    <tr>\n",
       "      <th>1</th>\n",
       "      <td>aalmiray</td>\n",
       "      <td>Andres Almiray</td>\n",
       "      <td>NaN</td>\n",
       "      <td>Basel, Switzerland</td>\n",
       "      <td>aalmiray@gmail.com</td>\n",
       "      <td>NaN</td>\n",
       "      <td>I code for fun and help others in the process....</td>\n",
       "      <td>253</td>\n",
       "      <td>887</td>\n",
       "      <td>65</td>\n",
       "      <td>2008-06-17T00:30:56Z</td>\n",
       "    </tr>\n",
       "    <tr>\n",
       "      <th>2</th>\n",
       "      <td>marcoroth</td>\n",
       "      <td>Marco Roth</td>\n",
       "      <td>NaN</td>\n",
       "      <td>Basel, Switzerland</td>\n",
       "      <td>NaN</td>\n",
       "      <td>True</td>\n",
       "      <td>Rubyist, Full-Stack Devloper and Open Source C...</td>\n",
       "      <td>193</td>\n",
       "      <td>555</td>\n",
       "      <td>1128</td>\n",
       "      <td>2014-01-15T17:12:11Z</td>\n",
       "    </tr>\n",
       "    <tr>\n",
       "      <th>3</th>\n",
       "      <td>klmr</td>\n",
       "      <td>Konrad Rudolph</td>\n",
       "      <td>ROCHE</td>\n",
       "      <td>Basel, CH</td>\n",
       "      <td>konrad.rudolph@gmail.com</td>\n",
       "      <td>NaN</td>\n",
       "      <td>Geneticist 🧬, computer scientist 𝝺 and softwar...</td>\n",
       "      <td>115</td>\n",
       "      <td>472</td>\n",
       "      <td>109</td>\n",
       "      <td>2008-12-07T20:55:40Z</td>\n",
       "    </tr>\n",
       "    <tr>\n",
       "      <th>4</th>\n",
       "      <td>MrNeRF</td>\n",
       "      <td>janusch</td>\n",
       "      <td>NaN</td>\n",
       "      <td>Basel, Switzerland</td>\n",
       "      <td>NaN</td>\n",
       "      <td>True</td>\n",
       "      <td>Professional C++ Software Engineer. Skills: CU...</td>\n",
       "      <td>34</td>\n",
       "      <td>434</td>\n",
       "      <td>37</td>\n",
       "      <td>2017-11-21T18:17:58Z</td>\n",
       "    </tr>\n",
       "  </tbody>\n",
       "</table>\n",
       "</div>"
      ],
      "text/plain": [
       "       login             name company            location  \\\n",
       "0    tarsius  Jonas Bernoulli     NaN  Basel, Switzerland   \n",
       "1   aalmiray   Andres Almiray     NaN  Basel, Switzerland   \n",
       "2  marcoroth       Marco Roth     NaN  Basel, Switzerland   \n",
       "3       klmr   Konrad Rudolph   ROCHE           Basel, CH   \n",
       "4     MrNeRF          janusch     NaN  Basel, Switzerland   \n",
       "\n",
       "                      email hireable  \\\n",
       "0          jonas@bernoul.li      NaN   \n",
       "1        aalmiray@gmail.com      NaN   \n",
       "2                       NaN     True   \n",
       "3  konrad.rudolph@gmail.com      NaN   \n",
       "4                       NaN     True   \n",
       "\n",
       "                                                 bio  public_repos  followers  \\\n",
       "0                                                NaN            39       1344   \n",
       "1  I code for fun and help others in the process....           253        887   \n",
       "2  Rubyist, Full-Stack Devloper and Open Source C...           193        555   \n",
       "3  Geneticist 🧬, computer scientist 𝝺 and softwar...           115        472   \n",
       "4  Professional C++ Software Engineer. Skills: CU...            34        434   \n",
       "\n",
       "   following            created_at  \n",
       "0         45  2008-09-17T19:18:37Z  \n",
       "1         65  2008-06-17T00:30:56Z  \n",
       "2       1128  2014-01-15T17:12:11Z  \n",
       "3        109  2008-12-07T20:55:40Z  \n",
       "4         37  2017-11-21T18:17:58Z  "
      ]
     },
     "execution_count": 2,
     "metadata": {},
     "output_type": "execute_result"
    }
   ],
   "source": [
    "users = pd.read_csv('users.csv')\n",
    "users.head()"
   ]
  },
  {
   "cell_type": "code",
   "execution_count": 3,
   "id": "f37b7348-3978-4355-948f-8b87845756c0",
   "metadata": {},
   "outputs": [
    {
     "name": "stderr",
     "output_type": "stream",
     "text": [
      "/tmp/ipykernel_59257/3653895316.py:1: FutureWarning: Downcasting object dtype arrays on .fillna, .ffill, .bfill is deprecated and will change in a future version. Call result.infer_objects(copy=False) instead. To opt-in to the future behavior, set `pd.set_option('future.no_silent_downcasting', True)`\n",
      "  users['hireable'] = users['hireable'].fillna(False)\n"
     ]
    }
   ],
   "source": [
    "users['hireable'] = users['hireable'].fillna(False)\n",
    "# users['hireable'] = users['hireable'].replace(True, 'true')"
   ]
  },
  {
   "cell_type": "code",
   "execution_count": 4,
   "id": "a14993f9-48d3-4956-9cca-d4349c30f649",
   "metadata": {},
   "outputs": [
    {
     "data": {
      "text/plain": [
       "['tarsius', 'aalmiray', 'marcoroth', 'klmr', 'MrNeRF']"
      ]
     },
     "execution_count": 4,
     "metadata": {},
     "output_type": "execute_result"
    }
   ],
   "source": [
    "top5 = users.sort_values(by='followers', ascending=False).head()\n",
    "answer = top5['login'].tolist()\n",
    "answer"
   ]
  },
  {
   "cell_type": "markdown",
   "id": "6cc86ddb-88c3-453c-bf56-29614358b62e",
   "metadata": {},
   "source": [
    "#### Q2. Who are the 5 earliest registered GitHub users in Basel? List their login in ascending order of created_at, comma-separated."
   ]
  },
  {
   "cell_type": "code",
   "execution_count": 5,
   "id": "afe79990-ccd3-4c8d-b184-45de1f19097c",
   "metadata": {},
   "outputs": [],
   "source": [
    "users['created_at'] = pd.to_datetime(users['created_at'])"
   ]
  },
  {
   "cell_type": "code",
   "execution_count": 6,
   "id": "f9645405-1745-4f06-9ba8-681b5c1e51b0",
   "metadata": {},
   "outputs": [
    {
     "data": {
      "text/plain": [
       "['bennyzen', 'aalmiray', 'pvillega', 'tarsius', 'amaunz']"
      ]
     },
     "execution_count": 6,
     "metadata": {},
     "output_type": "execute_result"
    }
   ],
   "source": [
    "top_earliest = users.sort_values(by='created_at').head()\n",
    "answer = top_earliest['login'].tolist()\n",
    "answer"
   ]
  },
  {
   "cell_type": "markdown",
   "id": "1675cbcf-6a8b-4af8-b24a-1372f68efd6b",
   "metadata": {},
   "source": [
    "#### Q3. What are the 3 most popular license among these users? Ignore missing licenses. List the license_name in order, comma-separated."
   ]
  },
  {
   "cell_type": "code",
   "execution_count": 7,
   "id": "a139a9a8-9ded-4175-b023-fe871850f3a4",
   "metadata": {},
   "outputs": [
    {
     "data": {
      "text/html": [
       "<div>\n",
       "<style scoped>\n",
       "    .dataframe tbody tr th:only-of-type {\n",
       "        vertical-align: middle;\n",
       "    }\n",
       "\n",
       "    .dataframe tbody tr th {\n",
       "        vertical-align: top;\n",
       "    }\n",
       "\n",
       "    .dataframe thead th {\n",
       "        text-align: right;\n",
       "    }\n",
       "</style>\n",
       "<table border=\"1\" class=\"dataframe\">\n",
       "  <thead>\n",
       "    <tr style=\"text-align: right;\">\n",
       "      <th></th>\n",
       "      <th>login</th>\n",
       "      <th>full_name</th>\n",
       "      <th>created_at</th>\n",
       "      <th>stargazers_count</th>\n",
       "      <th>watchers_count</th>\n",
       "      <th>language</th>\n",
       "      <th>has_projects</th>\n",
       "      <th>has_wiki</th>\n",
       "      <th>license_name</th>\n",
       "    </tr>\n",
       "  </thead>\n",
       "  <tbody>\n",
       "    <tr>\n",
       "      <th>0</th>\n",
       "      <td>tarsius</td>\n",
       "      <td>tarsius/.github</td>\n",
       "      <td>2019-12-05T17:14:31Z</td>\n",
       "      <td>1</td>\n",
       "      <td>1</td>\n",
       "      <td>Makefile</td>\n",
       "      <td>False</td>\n",
       "      <td>True</td>\n",
       "      <td>NaN</td>\n",
       "    </tr>\n",
       "    <tr>\n",
       "      <th>1</th>\n",
       "      <td>tarsius</td>\n",
       "      <td>tarsius/backline</td>\n",
       "      <td>2018-10-30T15:25:07Z</td>\n",
       "      <td>29</td>\n",
       "      <td>29</td>\n",
       "      <td>Emacs Lisp</td>\n",
       "      <td>False</td>\n",
       "      <td>False</td>\n",
       "      <td>gpl-3.0</td>\n",
       "    </tr>\n",
       "    <tr>\n",
       "      <th>2</th>\n",
       "      <td>tarsius</td>\n",
       "      <td>tarsius/bicycle</td>\n",
       "      <td>2017-08-06T11:23:07Z</td>\n",
       "      <td>59</td>\n",
       "      <td>59</td>\n",
       "      <td>Emacs Lisp</td>\n",
       "      <td>False</td>\n",
       "      <td>False</td>\n",
       "      <td>gpl-3.0</td>\n",
       "    </tr>\n",
       "    <tr>\n",
       "      <th>3</th>\n",
       "      <td>tarsius</td>\n",
       "      <td>tarsius/dim-autoload</td>\n",
       "      <td>2013-09-19T18:30:49Z</td>\n",
       "      <td>5</td>\n",
       "      <td>5</td>\n",
       "      <td>Emacs Lisp</td>\n",
       "      <td>False</td>\n",
       "      <td>False</td>\n",
       "      <td>gpl-3.0</td>\n",
       "    </tr>\n",
       "    <tr>\n",
       "      <th>4</th>\n",
       "      <td>tarsius</td>\n",
       "      <td>tarsius/elisp-maintainers</td>\n",
       "      <td>2017-09-21T19:28:28Z</td>\n",
       "      <td>177</td>\n",
       "      <td>177</td>\n",
       "      <td>NaN</td>\n",
       "      <td>False</td>\n",
       "      <td>False</td>\n",
       "      <td>NaN</td>\n",
       "    </tr>\n",
       "  </tbody>\n",
       "</table>\n",
       "</div>"
      ],
      "text/plain": [
       "     login                  full_name            created_at  stargazers_count  \\\n",
       "0  tarsius            tarsius/.github  2019-12-05T17:14:31Z                 1   \n",
       "1  tarsius           tarsius/backline  2018-10-30T15:25:07Z                29   \n",
       "2  tarsius            tarsius/bicycle  2017-08-06T11:23:07Z                59   \n",
       "3  tarsius       tarsius/dim-autoload  2013-09-19T18:30:49Z                 5   \n",
       "4  tarsius  tarsius/elisp-maintainers  2017-09-21T19:28:28Z               177   \n",
       "\n",
       "   watchers_count    language  has_projects  has_wiki license_name  \n",
       "0               1    Makefile         False      True          NaN  \n",
       "1              29  Emacs Lisp         False     False      gpl-3.0  \n",
       "2              59  Emacs Lisp         False     False      gpl-3.0  \n",
       "3               5  Emacs Lisp         False     False      gpl-3.0  \n",
       "4             177         NaN         False     False          NaN  "
      ]
     },
     "execution_count": 7,
     "metadata": {},
     "output_type": "execute_result"
    }
   ],
   "source": [
    "repos = pd.read_csv('repositories.csv')\n",
    "repos.head()"
   ]
  },
  {
   "cell_type": "code",
   "execution_count": 8,
   "id": "72f5e06d-b056-4463-b3e8-363b5edd50a0",
   "metadata": {},
   "outputs": [],
   "source": [
    "# repos['has_wiki'] = repos['has_wiki'].replace({True: 'true', False: 'false'})\n",
    "# repos['has_projects'] = repos['has_projects'].replace({True: 'true', False: 'false'})"
   ]
  },
  {
   "cell_type": "code",
   "execution_count": 9,
   "id": "f5b0a4ce-ae41-4066-a59a-58e81f27ad47",
   "metadata": {},
   "outputs": [
    {
     "data": {
      "text/plain": [
       "license_name\n",
       "mit                   2727\n",
       "apache-2.0            1346\n",
       "other                  884\n",
       "gpl-3.0                545\n",
       "bsd-3-clause           322\n",
       "agpl-3.0               159\n",
       "gpl-2.0                118\n",
       "cc0-1.0                 75\n",
       "bsd-2-clause            69\n",
       "lgpl-3.0                53\n",
       "cc-by-4.0               52\n",
       "unlicense               42\n",
       "mpl-2.0                 36\n",
       "isc                     26\n",
       "lgpl-2.1                20\n",
       "cc-by-sa-4.0            14\n",
       "bsl-1.0                  6\n",
       "epl-2.0                  5\n",
       "ecl-2.0                  4\n",
       "wtfpl                    4\n",
       "zlib                     3\n",
       "mit-0                    2\n",
       "0bsd                     2\n",
       "ofl-1.1                  2\n",
       "bsd-3-clause-clear       2\n",
       "epl-1.0                  2\n",
       "ms-pl                    1\n",
       "afl-3.0                  1\n",
       "artistic-2.0             1\n",
       "Name: count, dtype: int64"
      ]
     },
     "execution_count": 9,
     "metadata": {},
     "output_type": "execute_result"
    }
   ],
   "source": [
    "repos['license_name'].value_counts()"
   ]
  },
  {
   "cell_type": "markdown",
   "id": "662f1894-2c60-429c-b06d-cbe36afe6f08",
   "metadata": {},
   "source": [
    "#### Q4. Which company do the majority of these developers work at?"
   ]
  },
  {
   "cell_type": "code",
   "execution_count": 10,
   "id": "93a985b2-4e56-4871-9757-23e6ae5ed0de",
   "metadata": {},
   "outputs": [
    {
     "data": {
      "text/plain": [
       "company\n",
       "ADOBE                              20\n",
       "UNIVERSITY OF BASEL                19\n",
       "ROCHE                              12\n",
       "NOVARTIS                            7\n",
       "BALOISE                             6\n",
       "                                   ..\n",
       "BANK J. SAFRA SARASIN               1\n",
       "WEBERN-UNIBAS-CH | @DHLAB-BASEL     1\n",
       "JOURNALIST & CODER                  1\n",
       "MICKEL TECH                         1\n",
       "BEEKEEPER                           1\n",
       "Name: count, Length: 159, dtype: int64"
      ]
     },
     "execution_count": 10,
     "metadata": {},
     "output_type": "execute_result"
    }
   ],
   "source": [
    "users['company'].value_counts()"
   ]
  },
  {
   "cell_type": "markdown",
   "id": "3e73104c-f44c-4e59-aecc-cb10a34578a1",
   "metadata": {},
   "source": [
    "#### Q5. Which programming language is most popular among these users?"
   ]
  },
  {
   "cell_type": "code",
   "execution_count": 11,
   "id": "1abcf548-42aa-43fc-837e-86c6db860617",
   "metadata": {},
   "outputs": [
    {
     "data": {
      "text/plain": [
       "language\n",
       "JavaScript    1395\n",
       "Python        1294\n",
       "Java           869\n",
       "HTML           486\n",
       "PHP            420\n",
       "              ... \n",
       "Modula-2         1\n",
       "CAP CDS          1\n",
       "Mojo             1\n",
       "CartoCSS         1\n",
       "Just             1\n",
       "Name: count, Length: 135, dtype: int64"
      ]
     },
     "execution_count": 11,
     "metadata": {},
     "output_type": "execute_result"
    }
   ],
   "source": [
    "repos['language'].value_counts()"
   ]
  },
  {
   "cell_type": "markdown",
   "id": "bf7abc13-3226-4c35-b42e-400f06cac01d",
   "metadata": {},
   "source": [
    "#### Q6. Which programming language is the second most popular among users who joined after 2020?"
   ]
  },
  {
   "cell_type": "code",
   "execution_count": 12,
   "id": "d01727ac-d1de-4407-a65b-db7a88223d81",
   "metadata": {},
   "outputs": [
    {
     "data": {
      "text/html": [
       "<div>\n",
       "<style scoped>\n",
       "    .dataframe tbody tr th:only-of-type {\n",
       "        vertical-align: middle;\n",
       "    }\n",
       "\n",
       "    .dataframe tbody tr th {\n",
       "        vertical-align: top;\n",
       "    }\n",
       "\n",
       "    .dataframe thead th {\n",
       "        text-align: right;\n",
       "    }\n",
       "</style>\n",
       "<table border=\"1\" class=\"dataframe\">\n",
       "  <thead>\n",
       "    <tr style=\"text-align: right;\">\n",
       "      <th></th>\n",
       "      <th>login</th>\n",
       "      <th>name</th>\n",
       "      <th>company</th>\n",
       "      <th>location</th>\n",
       "      <th>email</th>\n",
       "      <th>hireable</th>\n",
       "      <th>bio</th>\n",
       "      <th>public_repos</th>\n",
       "      <th>followers</th>\n",
       "      <th>following</th>\n",
       "      <th>created_at</th>\n",
       "    </tr>\n",
       "  </thead>\n",
       "  <tbody>\n",
       "    <tr>\n",
       "      <th>85</th>\n",
       "      <td>markh0rr</td>\n",
       "      <td>NaN</td>\n",
       "      <td>STACKSYNC FULL STACK DEVELOPER | EPFL CS STUDENT</td>\n",
       "      <td>Basel | Lausanne Switzerland</td>\n",
       "      <td>NaN</td>\n",
       "      <td>False</td>\n",
       "      <td>MAKE SOMETHING PEOPLE WANT.</td>\n",
       "      <td>4</td>\n",
       "      <td>41</td>\n",
       "      <td>77</td>\n",
       "      <td>2021-02-11 11:10:18+00:00</td>\n",
       "    </tr>\n",
       "    <tr>\n",
       "      <th>94</th>\n",
       "      <td>leonden</td>\n",
       "      <td>Leon</td>\n",
       "      <td>HOME</td>\n",
       "      <td>Basel</td>\n",
       "      <td>info@leonhochwimmer.com</td>\n",
       "      <td>False</td>\n",
       "      <td>🪐🫧🦋</td>\n",
       "      <td>35</td>\n",
       "      <td>36</td>\n",
       "      <td>95</td>\n",
       "      <td>2022-01-17 09:06:41+00:00</td>\n",
       "    </tr>\n",
       "    <tr>\n",
       "      <th>147</th>\n",
       "      <td>lev1nn</td>\n",
       "      <td>Levin</td>\n",
       "      <td>COOP GENOSSENSCHAFT</td>\n",
       "      <td>Basel, Switzerland</td>\n",
       "      <td>levin.schaller@bbzbl-it.ch</td>\n",
       "      <td>False</td>\n",
       "      <td>NaN</td>\n",
       "      <td>3</td>\n",
       "      <td>25</td>\n",
       "      <td>28</td>\n",
       "      <td>2022-04-19 09:04:34+00:00</td>\n",
       "    </tr>\n",
       "    <tr>\n",
       "      <th>155</th>\n",
       "      <td>yalais</td>\n",
       "      <td>Yannic Lais</td>\n",
       "      <td>NaN</td>\n",
       "      <td>Basel</td>\n",
       "      <td>NaN</td>\n",
       "      <td>False</td>\n",
       "      <td>NaN</td>\n",
       "      <td>4</td>\n",
       "      <td>24</td>\n",
       "      <td>30</td>\n",
       "      <td>2021-10-01 06:13:00+00:00</td>\n",
       "    </tr>\n",
       "    <tr>\n",
       "      <th>162</th>\n",
       "      <td>revitron</td>\n",
       "      <td>Revitron</td>\n",
       "      <td>NaN</td>\n",
       "      <td>Basel</td>\n",
       "      <td>NaN</td>\n",
       "      <td>False</td>\n",
       "      <td>A Python wrapper for the Revit API based on th...</td>\n",
       "      <td>15</td>\n",
       "      <td>23</td>\n",
       "      <td>0</td>\n",
       "      <td>2020-05-16 15:22:18+00:00</td>\n",
       "    </tr>\n",
       "    <tr>\n",
       "      <th>170</th>\n",
       "      <td>tertek</td>\n",
       "      <td>Ekin Tertemiz</td>\n",
       "      <td>SWISS TROPICAL AND PUBLIC HEALTH INSTITUTE</td>\n",
       "      <td>Basel</td>\n",
       "      <td>NaN</td>\n",
       "      <td>False</td>\n",
       "      <td>@Research-IT-Swiss-TPH</td>\n",
       "      <td>21</td>\n",
       "      <td>21</td>\n",
       "      <td>26</td>\n",
       "      <td>2020-12-03 07:45:21+00:00</td>\n",
       "    </tr>\n",
       "    <tr>\n",
       "      <th>194</th>\n",
       "      <td>Joel-Schaltenbrand</td>\n",
       "      <td>Joel Schaltenbrand</td>\n",
       "      <td>COOP GENOSSENSCHAFT / @BBZ-BL-IT</td>\n",
       "      <td>Laufen, Basel-Landschaft</td>\n",
       "      <td>github@joelschaltenbrand.ch</td>\n",
       "      <td>False</td>\n",
       "      <td>I'm a tech geek, passionate about all things I...</td>\n",
       "      <td>6</td>\n",
       "      <td>19</td>\n",
       "      <td>39</td>\n",
       "      <td>2021-08-19 15:57:13+00:00</td>\n",
       "    </tr>\n",
       "    <tr>\n",
       "      <th>199</th>\n",
       "      <td>Ariwor</td>\n",
       "      <td>Asterios Arampatzis</td>\n",
       "      <td>PHD STUDENT - ETH ZURICH | SCIENCE LEAD @ACUBESAT</td>\n",
       "      <td>Basel</td>\n",
       "      <td>NaN</td>\n",
       "      <td>False</td>\n",
       "      <td>NaN</td>\n",
       "      <td>13</td>\n",
       "      <td>18</td>\n",
       "      <td>5</td>\n",
       "      <td>2020-04-13 09:07:43+00:00</td>\n",
       "    </tr>\n",
       "    <tr>\n",
       "      <th>232</th>\n",
       "      <td>moritztim</td>\n",
       "      <td>Moritz Tim W.</td>\n",
       "      <td>NaN</td>\n",
       "      <td>Basel</td>\n",
       "      <td>NaN</td>\n",
       "      <td>True</td>\n",
       "      <td>Weichwareningenieur</td>\n",
       "      <td>44</td>\n",
       "      <td>16</td>\n",
       "      <td>20</td>\n",
       "      <td>2021-09-09 10:24:41+00:00</td>\n",
       "    </tr>\n",
       "    <tr>\n",
       "      <th>243</th>\n",
       "      <td>AronBA</td>\n",
       "      <td>EgoLifter</td>\n",
       "      <td>UNIVERSITY OF APPLIED SCIENCES OF EASTERN SWIT...</td>\n",
       "      <td>Switzerland, Basel</td>\n",
       "      <td>NaN</td>\n",
       "      <td>False</td>\n",
       "      <td>weakest CS enjoyer\\r\\n</td>\n",
       "      <td>23</td>\n",
       "      <td>16</td>\n",
       "      <td>16</td>\n",
       "      <td>2020-10-13 19:31:10+00:00</td>\n",
       "    </tr>\n",
       "    <tr>\n",
       "      <th>252</th>\n",
       "      <td>hodcroftlab</td>\n",
       "      <td>Hodcroft Lab (EVE)</td>\n",
       "      <td>NaN</td>\n",
       "      <td>Basel, Switzerland</td>\n",
       "      <td>NaN</td>\n",
       "      <td>False</td>\n",
       "      <td>The Epidemiology &amp; Virus Evolution (EVE) Group...</td>\n",
       "      <td>5</td>\n",
       "      <td>15</td>\n",
       "      <td>0</td>\n",
       "      <td>2021-01-04 15:30:15+00:00</td>\n",
       "    </tr>\n",
       "    <tr>\n",
       "      <th>255</th>\n",
       "      <td>PaulRitsche</td>\n",
       "      <td>Paul Ritsche</td>\n",
       "      <td>UNIVERSITY OF BASEL - DEPARTMENT OF SPORT, EXE...</td>\n",
       "      <td>Basel</td>\n",
       "      <td>NaN</td>\n",
       "      <td>False</td>\n",
       "      <td>NaN</td>\n",
       "      <td>14</td>\n",
       "      <td>15</td>\n",
       "      <td>10</td>\n",
       "      <td>2020-09-16 11:06:53+00:00</td>\n",
       "    </tr>\n",
       "    <tr>\n",
       "      <th>277</th>\n",
       "      <td>arnoldjulian</td>\n",
       "      <td>Julian Arnold</td>\n",
       "      <td>UNIVERSITY OF BASEL</td>\n",
       "      <td>Basel, Switzerland</td>\n",
       "      <td>NaN</td>\n",
       "      <td>False</td>\n",
       "      <td>NaN</td>\n",
       "      <td>13</td>\n",
       "      <td>13</td>\n",
       "      <td>52</td>\n",
       "      <td>2020-05-07 00:59:44+00:00</td>\n",
       "    </tr>\n",
       "    <tr>\n",
       "      <th>278</th>\n",
       "      <td>bundfussr</td>\n",
       "      <td>Stefan Bundfuss</td>\n",
       "      <td>ROCHE</td>\n",
       "      <td>Basel</td>\n",
       "      <td>NaN</td>\n",
       "      <td>False</td>\n",
       "      <td>NaN</td>\n",
       "      <td>5</td>\n",
       "      <td>13</td>\n",
       "      <td>0</td>\n",
       "      <td>2021-03-19 09:56:46+00:00</td>\n",
       "    </tr>\n",
       "    <tr>\n",
       "      <th>293</th>\n",
       "      <td>raffaelschneider</td>\n",
       "      <td>Raffael Schneider</td>\n",
       "      <td>NaN</td>\n",
       "      <td>Basel, Switzerland</td>\n",
       "      <td>NaN</td>\n",
       "      <td>False</td>\n",
       "      <td>Platform Engineer at Helvetia (currently) – in...</td>\n",
       "      <td>8</td>\n",
       "      <td>13</td>\n",
       "      <td>3</td>\n",
       "      <td>2021-01-20 06:55:32+00:00</td>\n",
       "    </tr>\n",
       "    <tr>\n",
       "      <th>306</th>\n",
       "      <td>JacekKedzierski</td>\n",
       "      <td>Jacek Kędzierski</td>\n",
       "      <td>UNIVERSITY OF BASEL</td>\n",
       "      <td>Basel, Switzerland</td>\n",
       "      <td>NaN</td>\n",
       "      <td>False</td>\n",
       "      <td>PhD in Computational Pharmacy with strong foun...</td>\n",
       "      <td>7</td>\n",
       "      <td>12</td>\n",
       "      <td>54</td>\n",
       "      <td>2020-03-24 15:15:11+00:00</td>\n",
       "    </tr>\n",
       "    <tr>\n",
       "      <th>309</th>\n",
       "      <td>timlandolt</td>\n",
       "      <td>Tim Landolt</td>\n",
       "      <td>APFELSAFTLI</td>\n",
       "      <td>Basel, Switzerland</td>\n",
       "      <td>NaN</td>\n",
       "      <td>False</td>\n",
       "      <td>Old (Minecraft) stuff: @Hekates</td>\n",
       "      <td>5</td>\n",
       "      <td>12</td>\n",
       "      <td>25</td>\n",
       "      <td>2022-08-14 11:03:12+00:00</td>\n",
       "    </tr>\n",
       "    <tr>\n",
       "      <th>310</th>\n",
       "      <td>lunatsukiii</td>\n",
       "      <td>Luna Addi</td>\n",
       "      <td>CELESTIAL-INC</td>\n",
       "      <td>Switzerland, Basel</td>\n",
       "      <td>luna.addi.contact@gmail.com</td>\n",
       "      <td>False</td>\n",
       "      <td>Traditional &amp; 3D Artist, Beginner Software &amp; G...</td>\n",
       "      <td>5</td>\n",
       "      <td>12</td>\n",
       "      <td>20</td>\n",
       "      <td>2021-07-23 12:46:45+00:00</td>\n",
       "    </tr>\n",
       "    <tr>\n",
       "      <th>316</th>\n",
       "      <td>AmirEhsan95</td>\n",
       "      <td>AmirEhsan KhorashadiZadeh</td>\n",
       "      <td>UNIVERSITY OF BASEL</td>\n",
       "      <td>Basel</td>\n",
       "      <td>NaN</td>\n",
       "      <td>False</td>\n",
       "      <td>PhD at the University of Basel</td>\n",
       "      <td>2</td>\n",
       "      <td>12</td>\n",
       "      <td>9</td>\n",
       "      <td>2020-06-18 13:31:34+00:00</td>\n",
       "    </tr>\n",
       "    <tr>\n",
       "      <th>336</th>\n",
       "      <td>SilenLoc</td>\n",
       "      <td>Silen Locatelli</td>\n",
       "      <td>OPTRAVIS LLC</td>\n",
       "      <td>Basel</td>\n",
       "      <td>NaN</td>\n",
       "      <td>False</td>\n",
       "      <td>Clean code is tested code,\\r\\nright?</td>\n",
       "      <td>13</td>\n",
       "      <td>11</td>\n",
       "      <td>12</td>\n",
       "      <td>2021-08-02 08:54:45+00:00</td>\n",
       "    </tr>\n",
       "    <tr>\n",
       "      <th>338</th>\n",
       "      <td>matteotex91</td>\n",
       "      <td>Matteo Tessarolo</td>\n",
       "      <td>UNIVERSITY OF BASEL</td>\n",
       "      <td>Basel, Switzerland</td>\n",
       "      <td>matteotex@gmail.com</td>\n",
       "      <td>False</td>\n",
       "      <td>NaN</td>\n",
       "      <td>5</td>\n",
       "      <td>11</td>\n",
       "      <td>10</td>\n",
       "      <td>2024-08-01 10:23:54+00:00</td>\n",
       "    </tr>\n",
       "    <tr>\n",
       "      <th>341</th>\n",
       "      <td>NasaboyZ</td>\n",
       "      <td>Josef</td>\n",
       "      <td>NaN</td>\n",
       "      <td>Basel/Swiss</td>\n",
       "      <td>NaN</td>\n",
       "      <td>False</td>\n",
       "      <td>Code-Magier im Aufbau: Jeder Bug ist nur ein S...</td>\n",
       "      <td>20</td>\n",
       "      <td>11</td>\n",
       "      <td>12</td>\n",
       "      <td>2023-06-08 00:49:43+00:00</td>\n",
       "    </tr>\n",
       "  </tbody>\n",
       "</table>\n",
       "</div>"
      ],
      "text/plain": [
       "                  login                       name  \\\n",
       "85             markh0rr                        NaN   \n",
       "94              leonden                       Leon   \n",
       "147              lev1nn                      Levin   \n",
       "155              yalais                Yannic Lais   \n",
       "162            revitron                   Revitron   \n",
       "170              tertek              Ekin Tertemiz   \n",
       "194  Joel-Schaltenbrand         Joel Schaltenbrand   \n",
       "199              Ariwor        Asterios Arampatzis   \n",
       "232           moritztim              Moritz Tim W.   \n",
       "243              AronBA                  EgoLifter   \n",
       "252         hodcroftlab         Hodcroft Lab (EVE)   \n",
       "255         PaulRitsche               Paul Ritsche   \n",
       "277        arnoldjulian              Julian Arnold   \n",
       "278           bundfussr            Stefan Bundfuss   \n",
       "293    raffaelschneider          Raffael Schneider   \n",
       "306     JacekKedzierski           Jacek Kędzierski   \n",
       "309          timlandolt                Tim Landolt   \n",
       "310         lunatsukiii                  Luna Addi   \n",
       "316         AmirEhsan95  AmirEhsan KhorashadiZadeh   \n",
       "336            SilenLoc            Silen Locatelli   \n",
       "338         matteotex91           Matteo Tessarolo   \n",
       "341            NasaboyZ                      Josef   \n",
       "\n",
       "                                               company  \\\n",
       "85    STACKSYNC FULL STACK DEVELOPER | EPFL CS STUDENT   \n",
       "94                                                HOME   \n",
       "147                                COOP GENOSSENSCHAFT   \n",
       "155                                                NaN   \n",
       "162                                                NaN   \n",
       "170         SWISS TROPICAL AND PUBLIC HEALTH INSTITUTE   \n",
       "194                   COOP GENOSSENSCHAFT / @BBZ-BL-IT   \n",
       "199  PHD STUDENT - ETH ZURICH | SCIENCE LEAD @ACUBESAT   \n",
       "232                                                NaN   \n",
       "243  UNIVERSITY OF APPLIED SCIENCES OF EASTERN SWIT...   \n",
       "252                                                NaN   \n",
       "255  UNIVERSITY OF BASEL - DEPARTMENT OF SPORT, EXE...   \n",
       "277                                UNIVERSITY OF BASEL   \n",
       "278                                              ROCHE   \n",
       "293                                                NaN   \n",
       "306                                UNIVERSITY OF BASEL   \n",
       "309                                        APFELSAFTLI   \n",
       "310                                      CELESTIAL-INC   \n",
       "316                                UNIVERSITY OF BASEL   \n",
       "336                                       OPTRAVIS LLC   \n",
       "338                                UNIVERSITY OF BASEL   \n",
       "341                                                NaN   \n",
       "\n",
       "                         location                        email  hireable  \\\n",
       "85   Basel | Lausanne Switzerland                          NaN     False   \n",
       "94                          Basel      info@leonhochwimmer.com     False   \n",
       "147            Basel, Switzerland   levin.schaller@bbzbl-it.ch     False   \n",
       "155                         Basel                          NaN     False   \n",
       "162                         Basel                          NaN     False   \n",
       "170                         Basel                          NaN     False   \n",
       "194      Laufen, Basel-Landschaft  github@joelschaltenbrand.ch     False   \n",
       "199                         Basel                          NaN     False   \n",
       "232                         Basel                          NaN      True   \n",
       "243            Switzerland, Basel                          NaN     False   \n",
       "252            Basel, Switzerland                          NaN     False   \n",
       "255                         Basel                          NaN     False   \n",
       "277            Basel, Switzerland                          NaN     False   \n",
       "278                         Basel                          NaN     False   \n",
       "293            Basel, Switzerland                          NaN     False   \n",
       "306            Basel, Switzerland                          NaN     False   \n",
       "309            Basel, Switzerland                          NaN     False   \n",
       "310            Switzerland, Basel  luna.addi.contact@gmail.com     False   \n",
       "316                         Basel                          NaN     False   \n",
       "336                         Basel                          NaN     False   \n",
       "338            Basel, Switzerland          matteotex@gmail.com     False   \n",
       "341                   Basel/Swiss                          NaN     False   \n",
       "\n",
       "                                                   bio  public_repos  \\\n",
       "85                         MAKE SOMETHING PEOPLE WANT.             4   \n",
       "94                                                 🪐🫧🦋            35   \n",
       "147                                                NaN             3   \n",
       "155                                                NaN             4   \n",
       "162  A Python wrapper for the Revit API based on th...            15   \n",
       "170                            @Research-IT-Swiss-TPH             21   \n",
       "194  I'm a tech geek, passionate about all things I...             6   \n",
       "199                                                NaN            13   \n",
       "232                                Weichwareningenieur            44   \n",
       "243                             weakest CS enjoyer\\r\\n            23   \n",
       "252  The Epidemiology & Virus Evolution (EVE) Group...             5   \n",
       "255                                                NaN            14   \n",
       "277                                                NaN            13   \n",
       "278                                                NaN             5   \n",
       "293  Platform Engineer at Helvetia (currently) – in...             8   \n",
       "306  PhD in Computational Pharmacy with strong foun...             7   \n",
       "309                    Old (Minecraft) stuff: @Hekates             5   \n",
       "310  Traditional & 3D Artist, Beginner Software & G...             5   \n",
       "316                     PhD at the University of Basel             2   \n",
       "336               Clean code is tested code,\\r\\nright?            13   \n",
       "338                                                NaN             5   \n",
       "341  Code-Magier im Aufbau: Jeder Bug ist nur ein S...            20   \n",
       "\n",
       "     followers  following                created_at  \n",
       "85          41         77 2021-02-11 11:10:18+00:00  \n",
       "94          36         95 2022-01-17 09:06:41+00:00  \n",
       "147         25         28 2022-04-19 09:04:34+00:00  \n",
       "155         24         30 2021-10-01 06:13:00+00:00  \n",
       "162         23          0 2020-05-16 15:22:18+00:00  \n",
       "170         21         26 2020-12-03 07:45:21+00:00  \n",
       "194         19         39 2021-08-19 15:57:13+00:00  \n",
       "199         18          5 2020-04-13 09:07:43+00:00  \n",
       "232         16         20 2021-09-09 10:24:41+00:00  \n",
       "243         16         16 2020-10-13 19:31:10+00:00  \n",
       "252         15          0 2021-01-04 15:30:15+00:00  \n",
       "255         15         10 2020-09-16 11:06:53+00:00  \n",
       "277         13         52 2020-05-07 00:59:44+00:00  \n",
       "278         13          0 2021-03-19 09:56:46+00:00  \n",
       "293         13          3 2021-01-20 06:55:32+00:00  \n",
       "306         12         54 2020-03-24 15:15:11+00:00  \n",
       "309         12         25 2022-08-14 11:03:12+00:00  \n",
       "310         12         20 2021-07-23 12:46:45+00:00  \n",
       "316         12          9 2020-06-18 13:31:34+00:00  \n",
       "336         11         12 2021-08-02 08:54:45+00:00  \n",
       "338         11         10 2024-08-01 10:23:54+00:00  \n",
       "341         11         12 2023-06-08 00:49:43+00:00  "
      ]
     },
     "execution_count": 12,
     "metadata": {},
     "output_type": "execute_result"
    }
   ],
   "source": [
    "users_after_2020 = users[users['created_at'] > '2020-01-01']\n",
    "users_after_2020"
   ]
  },
  {
   "cell_type": "code",
   "execution_count": 13,
   "id": "aee537b6-38c7-4aa5-baae-c398fe385053",
   "metadata": {},
   "outputs": [
    {
     "data": {
      "text/plain": [
       "language\n",
       "Python              35\n",
       "PHP                 26\n",
       "HTML                23\n",
       "Java                22\n",
       "JavaScript          16\n",
       "TypeScript          12\n",
       "Rust                 7\n",
       "Shell                6\n",
       "CSS                  5\n",
       "Jupyter Notebook     5\n",
       "C#                   4\n",
       "AutoHotkey           4\n",
       "R                    4\n",
       "C++                  3\n",
       "Julia                3\n",
       "Dockerfile           2\n",
       "SCSS                 2\n",
       "Batchfile            2\n",
       "MATLAB               2\n",
       "GDScript             2\n",
       "Lua                  2\n",
       "Kotlin               1\n",
       "Astro                1\n",
       "Dart                 1\n",
       "Vue                  1\n",
       "JSON                 1\n",
       "Makefile             1\n",
       "ImageJ Macro         1\n",
       "Sass                 1\n",
       "Ruby                 1\n",
       "Hack                 1\n",
       "Just                 1\n",
       "Name: count, dtype: int64"
      ]
     },
     "execution_count": 13,
     "metadata": {},
     "output_type": "execute_result"
    }
   ],
   "source": [
    "repos_2020 = repos[repos['login'].isin(users_after_2020['login'].tolist())]\n",
    "repos_2020['language'].value_counts()"
   ]
  },
  {
   "cell_type": "markdown",
   "id": "d0b07a2f-bcae-496b-ab7e-188a2f0aa7be",
   "metadata": {},
   "source": [
    "#### Q7. Which language has the highest average number of stars per repository? "
   ]
  },
  {
   "cell_type": "code",
   "execution_count": 14,
   "id": "8c8a119a-e562-4855-8330-23b6dccdfea9",
   "metadata": {},
   "outputs": [
    {
     "name": "stdout",
     "output_type": "stream",
     "text": [
      "PureScript 114.0\n"
     ]
    }
   ],
   "source": [
    "avg_stars = repos.groupby('language')['stargazers_count'].mean()\n",
    "top_lang = avg_stars.idxmax()\n",
    "top_stars = avg_stars.max()\n",
    "print(top_lang, top_stars)"
   ]
  },
  {
   "cell_type": "markdown",
   "id": "e430846a-1518-409f-8717-cb2f84570460",
   "metadata": {},
   "source": [
    "#### Q8. Let's define leader_strength as followers / (1 + following). Who are the top 5 in terms of leader_strength? List their login in order, comma-separated."
   ]
  },
  {
   "cell_type": "code",
   "execution_count": 15,
   "id": "aa51b046-149f-4ef5-89ff-62586043992c",
   "metadata": {},
   "outputs": [
    {
     "data": {
      "text/plain": [
       "['dpryan79', 'wasserth', 'ravage84', 'elanmart', 'quadbiolab']"
      ]
     },
     "execution_count": 15,
     "metadata": {},
     "output_type": "execute_result"
    }
   ],
   "source": [
    "users['leader_strength'] = users['followers'] / (1 + users['following'])\n",
    "top5_lead = users.sort_values(by='leader_strength', ascending=False).head()\n",
    "top5_lead['login'].tolist()"
   ]
  },
  {
   "cell_type": "markdown",
   "id": "8dd87be3-3a61-4fe1-ab5c-1ef836c545d3",
   "metadata": {},
   "source": [
    "#### Q9. What is the correlation between the number of followers and the number of public repositories among users in Basel?"
   ]
  },
  {
   "cell_type": "code",
   "execution_count": 16,
   "id": "91e8b274-bde5-41ac-91d2-d965334f2d35",
   "metadata": {},
   "outputs": [
    {
     "data": {
      "text/plain": [
       "0.34406396712642345"
      ]
     },
     "execution_count": 16,
     "metadata": {},
     "output_type": "execute_result"
    }
   ],
   "source": [
    "correlation = users['followers'].corr(users['public_repos'])\n",
    "correlation"
   ]
  },
  {
   "cell_type": "markdown",
   "id": "23dac608-8b88-48d8-aeae-1e11b2cb2b87",
   "metadata": {},
   "source": [
    "#### Q10. Does creating more repos help users get more followers? Using regression, estimate how many additional followers a user gets per additional public repository."
   ]
  },
  {
   "cell_type": "code",
   "execution_count": 27,
   "id": "9eede565-f813-4807-989b-051201f7f411",
   "metadata": {},
   "outputs": [
    {
     "name": "stdout",
     "output_type": "stream",
     "text": [
      "0.672\n"
     ]
    }
   ],
   "source": [
    "import csv\n",
    "followers = []\n",
    "public_repos = []\n",
    "with open('users.csv', 'r', encoding='utf-8') as file:\n",
    "    reader = csv.DictReader(file)\n",
    "    for row in reader:\n",
    "        followers_count = int(row['followers'])\n",
    "        public_repos_count = int(row['public_repos'])\n",
    "        followers.append(followers_count)\n",
    "        public_repos.append(public_repos_count)\n",
    "if len(followers) > 1 and len(public_repos) > 1:\n",
    "    slope, intercept = np.polyfit(public_repos, followers, 1)\n",
    "    \n",
    "    print(f\"{slope:.3f}\")\n",
    "else:\n",
    "    print(\"Error\")"
   ]
  },
  {
   "cell_type": "markdown",
   "id": "b1739602-5cef-48d6-a3ef-3ecc1d12f405",
   "metadata": {},
   "source": [
    "#### Q11. Do people typically enable projects and wikis together? What is the correlation between a repo having projects enabled and having wiki enabled?"
   ]
  },
  {
   "cell_type": "code",
   "execution_count": 18,
   "id": "e680160d-cfa3-42ef-be27-55a772b77171",
   "metadata": {},
   "outputs": [
    {
     "data": {
      "text/plain": [
       "0.3122742661328533"
      ]
     },
     "execution_count": 18,
     "metadata": {},
     "output_type": "execute_result"
    }
   ],
   "source": [
    "correlation = repos['has_projects'].corr(repos['has_wiki'])\n",
    "correlation"
   ]
  },
  {
   "cell_type": "markdown",
   "id": "7d1c5de4-b714-46e2-af6a-ad41e8a42f8f",
   "metadata": {},
   "source": [
    "#### Q12. Do hireable users follow more people than those who are not hireable?"
   ]
  },
  {
   "cell_type": "code",
   "execution_count": 19,
   "id": "cd51bed6-bba7-4407-94a9-ccc5e3968b4d",
   "metadata": {},
   "outputs": [
    {
     "data": {
      "text/plain": [
       "46.94048144876325"
      ]
     },
     "execution_count": 19,
     "metadata": {},
     "output_type": "execute_result"
    }
   ],
   "source": [
    "hireable_avg_following = users[users['hireable'] == True]['following'].mean()\n",
    "non_hireable_avg_following = users[users['hireable'] == False]['following'].mean()\n",
    "difference = hireable_avg_following - non_hireable_avg_following\n",
    "difference"
   ]
  },
  {
   "cell_type": "markdown",
   "id": "1f30dbcf-90f2-4531-b37c-0386828e1f9f",
   "metadata": {},
   "source": [
    "#### Q13. Some developers write long bios. Does that help them get more followers? What's the correlation of the length of their bio (in Unicode characters) with followers? (Ignore people without bios)"
   ]
  },
  {
   "cell_type": "code",
   "execution_count": 29,
   "id": "a324c8b4-9faf-4f4d-9c3d-0813e6bdbfb8",
   "metadata": {},
   "outputs": [
    {
     "data": {
      "text/plain": [
       "0.37596931225094793"
      ]
     },
     "execution_count": 29,
     "metadata": {},
     "output_type": "execute_result"
    }
   ],
   "source": [
    "from sklearn.linear_model import LinearRegression\n",
    "users_with_bio = users[(users['bio'].notna()) & (users['bio'] != '')].copy()\n",
    "users_with_bio.loc[:, 'bio_len'] = users_with_bio['bio'].str.len()\n",
    "\n",
    "X = users_with_bio['bio_len'].values.reshape(-1,1)\n",
    "y = users_with_bio['followers']\n",
    "\n",
    "lr2 = LinearRegression()\n",
    "lr2.fit(X, y)\n",
    "lr2.coef_[0]"
   ]
  },
  {
   "cell_type": "markdown",
   "id": "96cb22e4-4046-40cf-9be5-06f096b0f0c3",
   "metadata": {},
   "source": [
    "#### Q14. Who created the most repositories on weekends (UTC)? List the top 5 users' login in order, comma-separated"
   ]
  },
  {
   "cell_type": "code",
   "execution_count": 30,
   "id": "ab49dafe-2981-4fe1-b603-0bee0e61e04f",
   "metadata": {},
   "outputs": [
    {
     "name": "stdout",
     "output_type": "stream",
     "text": [
      "marcossegovia,tbreuss,ioolkos,BaselHack,maysam\n"
     ]
    }
   ],
   "source": [
    "import csv\n",
    "from collections import Counter\n",
    "from datetime import datetime\n",
    "\n",
    "weekend_repo_counts = Counter()\n",
    "\n",
    "with open('repositories.csv', 'r', encoding='utf-8') as file:\n",
    "    reader = csv.DictReader(file)\n",
    "    \n",
    "    for row in reader:\n",
    "        created_at = row.get('created_at', '')\n",
    "        if created_at:\n",
    "            created_date = datetime.fromisoformat(created_at[:-1])  \n",
    "            \n",
    "            if created_date.weekday() in [5, 6]:\n",
    "                user_login = row['login']\n",
    "                weekend_repo_counts[user_login] += 1  \n",
    "\n",
    "top_users = weekend_repo_counts.most_common(5)\n",
    "\n",
    "top_logins = [user[0] for user in top_users]\n",
    "\n",
    "print(','.join(top_logins))"
   ]
  },
  {
   "cell_type": "markdown",
   "id": "6d9da60a-2ff0-4421-808e-ab9a74bf02fb",
   "metadata": {},
   "source": [
    "#### Q15. Do people who are hireable share their email addresses more often?"
   ]
  },
  {
   "cell_type": "code",
   "execution_count": 22,
   "id": "b8381831-d1ed-4855-afc2-97ad1c06a1af",
   "metadata": {},
   "outputs": [
    {
     "data": {
      "text/plain": [
       "0.05140238515901058"
      ]
     },
     "execution_count": 22,
     "metadata": {},
     "output_type": "execute_result"
    }
   ],
   "source": [
    "fraction_hierable = users[users['hireable'] == True]['email'].notna().mean()\n",
    "fraction_non_hierable = users[users['hireable'] == False]['email'].notna().mean()\n",
    "diff = fraction_hierable - fraction_non_hierable\n",
    "diff"
   ]
  },
  {
   "cell_type": "markdown",
   "id": "806a227e-1285-4c5f-bb05-867a3fd5101a",
   "metadata": {},
   "source": [
    "#### Q16. Let's assume that the last word in a user's name is their surname (ignore missing names, trim and split by whitespace.) What's the most common surname? (If there's a tie, list them all, comma-separated, alphabetically)"
   ]
  },
  {
   "cell_type": "code",
   "execution_count": 23,
   "id": "01a24dfb-05cc-4528-b118-558b2307639c",
   "metadata": {},
   "outputs": [
    {
     "data": {
      "text/plain": [
       "'Arnold, Brand, Christensen, Fink, GmbH, Group, Guggisberg, Landolt, Roth, Tan'"
      ]
     },
     "execution_count": 23,
     "metadata": {},
     "output_type": "execute_result"
    }
   ],
   "source": [
    "new_users = users[users['name'].notna()].copy()\n",
    "new_users['surname'] = new_users['name'].str.split().str[-1].str.strip()\n",
    "surname_counts = new_users['surname'].value_counts()\n",
    "max_count = surname_counts.max()\n",
    "common_surnames = surname_counts[surname_counts == max_count].index.tolist()\n",
    "common_surnames.sort()\n",
    "common_surnames_output = ', '.join(common_surnames)\n",
    "common_surnames_output"
   ]
  }
 ],
 "metadata": {
  "kernelspec": {
   "display_name": "Python (eda)",
   "language": "python",
   "name": "eda"
  },
  "language_info": {
   "codemirror_mode": {
    "name": "ipython",
    "version": 3
   },
   "file_extension": ".py",
   "mimetype": "text/x-python",
   "name": "python",
   "nbconvert_exporter": "python",
   "pygments_lexer": "ipython3",
   "version": "3.12.2"
  }
 },
 "nbformat": 4,
 "nbformat_minor": 5
}
